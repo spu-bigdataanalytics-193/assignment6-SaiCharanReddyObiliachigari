{
 "cells": [
  {
   "cell_type": "markdown",
   "metadata": {},
   "source": [
    "## Initializing the Spark"
   ]
  },
  {
   "cell_type": "code",
   "execution_count": 0,
   "metadata": {
    "colab": {},
    "colab_type": "code",
    "id": "_cS9tEuBejIP"
   },
   "outputs": [],
   "source": [
    "!apt-get install openjdk-8-jdk-headless -qq > /dev/null\n",
    "!wget -q https://www-us.apache.org/dist/spark/spark-2.4.5/spark-2.4.5-bin-hadoop2.7.tgz\n",
    "!tar xf spark-2.4.5-bin-hadoop2.7.tgz\n",
    "!pip install -q findspark"
   ]
  },
  {
   "cell_type": "code",
   "execution_count": 0,
   "metadata": {
    "colab": {},
    "colab_type": "code",
    "id": "pSKJdE-ahPiK"
   },
   "outputs": [],
   "source": [
    "import os\n",
    "os.environ[\"JAVA_HOME\"] = \"/usr/lib/jvm/java-8-openjdk-amd64\"\n",
    "os.environ[\"SPARK_HOME\"] = \"/content/spark-2.4.5-bin-hadoop2.7\""
   ]
  },
  {
   "cell_type": "code",
   "execution_count": 3,
   "metadata": {
    "colab": {
     "base_uri": "https://localhost:8080/",
     "height": 125
    },
    "colab_type": "code",
    "id": "0kvsRYRoiFam",
    "outputId": "82408cb8-ccff-4dcf-ad30-cb98d0b3a162"
   },
   "outputs": [
    {
     "name": "stdout",
     "output_type": "stream",
     "text": [
      "Go to this URL in a browser: https://accounts.google.com/o/oauth2/auth?client_id=947318989803-6bn6qk8qdgf4n4g3pfee6491hc0brc4i.apps.googleusercontent.com&redirect_uri=urn%3aietf%3awg%3aoauth%3a2.0%3aoob&response_type=code&scope=email%20https%3a%2f%2fwww.googleapis.com%2fauth%2fdocs.test%20https%3a%2f%2fwww.googleapis.com%2fauth%2fdrive%20https%3a%2f%2fwww.googleapis.com%2fauth%2fdrive.photos.readonly%20https%3a%2f%2fwww.googleapis.com%2fauth%2fpeopleapi.readonly\n",
      "\n",
      "Enter your authorization code:\n",
      "··········\n",
      "Mounted at /content/drive\n"
     ]
    }
   ],
   "source": [
    "from google.colab import drive\n",
    "drive.mount('/content/drive')"
   ]
  },
  {
   "cell_type": "markdown",
   "metadata": {},
   "source": [
    "## Spark Installation"
   ]
  },
  {
   "cell_type": "code",
   "execution_count": 4,
   "metadata": {
    "colab": {
     "base_uri": "https://localhost:8080/",
     "height": 266
    },
    "colab_type": "code",
    "id": "Dt5j0Fj3igmK",
    "outputId": "6a2d8990-6ee1-4ab4-96ce-7b7ce8dedcfa"
   },
   "outputs": [
    {
     "name": "stdout",
     "output_type": "stream",
     "text": [
      "Collecting pyspark\n",
      "\u001b[?25l  Downloading https://files.pythonhosted.org/packages/9a/5a/271c416c1c2185b6cb0151b29a91fff6fcaed80173c8584ff6d20e46b465/pyspark-2.4.5.tar.gz (217.8MB)\n",
      "\u001b[K     |████████████████████████████████| 217.8MB 64kB/s \n",
      "\u001b[?25hCollecting py4j==0.10.7\n",
      "\u001b[?25l  Downloading https://files.pythonhosted.org/packages/e3/53/c737818eb9a7dc32a7cd4f1396e787bd94200c3997c72c1dbe028587bd76/py4j-0.10.7-py2.py3-none-any.whl (197kB)\n",
      "\u001b[K     |████████████████████████████████| 204kB 32.3MB/s \n",
      "\u001b[?25hBuilding wheels for collected packages: pyspark\n",
      "  Building wheel for pyspark (setup.py) ... \u001b[?25l\u001b[?25hdone\n",
      "  Created wheel for pyspark: filename=pyspark-2.4.5-py2.py3-none-any.whl size=218257927 sha256=78130cc332e336138fdcb021cd3138da964c91f0f579d9a001e4895d0f084d9b\n",
      "  Stored in directory: /root/.cache/pip/wheels/bf/db/04/61d66a5939364e756eb1c1be4ec5bdce6e04047fc7929a3c3c\n",
      "Successfully built pyspark\n",
      "Installing collected packages: py4j, pyspark\n",
      "Successfully installed py4j-0.10.7 pyspark-2.4.5\n"
     ]
    }
   ],
   "source": [
    "pip install pyspark"
   ]
  },
  {
   "cell_type": "markdown",
   "metadata": {},
   "source": [
    "## Importing the Libraries"
   ]
  },
  {
   "cell_type": "code",
   "execution_count": 0,
   "metadata": {
    "colab": {},
    "colab_type": "code",
    "id": "kidXCfMiitRn"
   },
   "outputs": [],
   "source": [
    "from pyspark.sql import SparkSession\n",
    "from pyspark.sql.functions import *\n",
    "import pandas as pd\n"
   ]
  },
  {
   "cell_type": "markdown",
   "metadata": {
    "colab_type": "text",
    "id": "PUAkV6T3hKmO"
   },
   "source": [
    "## 5 Types of configurations in SparkSession"
   ]
  },
  {
   "cell_type": "code",
   "execution_count": 0,
   "metadata": {
    "colab": {},
    "colab_type": "code",
    "id": "-3YVwjSzi7ji"
   },
   "outputs": [],
   "source": [
    "spark = SparkSession.builder \\\n",
    "    .master(\"local\") \\\n",
    "    .appName(\"Bonus_Assignment_6\") \\\n",
    "    .config(\"logConf\",\"false\") \\\n",
    "    .config(\"driver.supervise\",\"false\") \\\n",
    "    .config(\"driver.userClassPathFirst\",\"false\") \\\n",
    "    .config(\"checkpoint.compress\", \"false\") \\\n",
    "    .config(\"streaming.backpressure.enabled\", \"false\") \\\n",
    "    .getOrCreate()"
   ]
  },
  {
   "cell_type": "markdown",
   "metadata": {
    "colab_type": "text",
    "id": "Igbz7kt72dI3"
   },
   "source": [
    "## Loading the Data"
   ]
  },
  {
   "cell_type": "code",
   "execution_count": 0,
   "metadata": {
    "colab": {},
    "colab_type": "code",
    "id": "WGUa4VbLpRl7"
   },
   "outputs": [],
   "source": [
    "# Reading the data as dataframe\n",
    "df=spark.read.csv('/content/sample_data/hotel_bookings.csv',header=True)"
   ]
  },
  {
   "cell_type": "code",
   "execution_count": 11,
   "metadata": {
    "colab": {
     "base_uri": "https://localhost:8080/",
     "height": 495
    },
    "colab_type": "code",
    "id": "Kxx9SBGemtOL",
    "outputId": "1d70f845-f0a8-445c-fd92-6299a737bc9d"
   },
   "outputs": [
    {
     "name": "stdout",
     "output_type": "stream",
     "text": [
      "+------------+-----------+---------+-----------------+------------------+-------------------------+------+-------+--------------+--------------------+\n",
      "|       hotel|is_canceled|lead_time|arrival_date_year|arrival_date_month|arrival_date_day_of_month|adults|country|market_segment|distribution_channel|\n",
      "+------------+-----------+---------+-----------------+------------------+-------------------------+------+-------+--------------+--------------------+\n",
      "|Resort Hotel|          0|      342|             2015|              July|                        1|     2|    PRT|        Direct|              Direct|\n",
      "|Resort Hotel|          0|      737|             2015|              July|                        1|     2|    PRT|        Direct|              Direct|\n",
      "|Resort Hotel|          0|        7|             2015|              July|                        1|     1|    GBR|        Direct|              Direct|\n",
      "|Resort Hotel|          0|       13|             2015|              July|                        1|     1|    GBR|     Corporate|           Corporate|\n",
      "|Resort Hotel|          0|       14|             2015|              July|                        1|     2|    GBR|     Online TA|               TA/TO|\n",
      "|Resort Hotel|          0|       14|             2015|              July|                        1|     2|    GBR|     Online TA|               TA/TO|\n",
      "|Resort Hotel|          0|        0|             2015|              July|                        1|     2|    PRT|        Direct|              Direct|\n",
      "|Resort Hotel|          0|        9|             2015|              July|                        1|     2|    PRT|        Direct|              Direct|\n",
      "|Resort Hotel|          1|       85|             2015|              July|                        1|     2|    PRT|     Online TA|               TA/TO|\n",
      "|Resort Hotel|          1|       75|             2015|              July|                        1|     2|    PRT| Offline TA/TO|               TA/TO|\n",
      "|Resort Hotel|          1|       23|             2015|              July|                        1|     2|    PRT|     Online TA|               TA/TO|\n",
      "|Resort Hotel|          0|       35|             2015|              July|                        1|     2|    PRT|     Online TA|               TA/TO|\n",
      "|Resort Hotel|          0|       68|             2015|              July|                        1|     2|    USA|     Online TA|               TA/TO|\n",
      "|Resort Hotel|          0|       18|             2015|              July|                        1|     2|    ESP|     Online TA|               TA/TO|\n",
      "|Resort Hotel|          0|       37|             2015|              July|                        1|     2|    PRT|     Online TA|               TA/TO|\n",
      "|Resort Hotel|          0|       68|             2015|              July|                        1|     2|    IRL|     Online TA|               TA/TO|\n",
      "|Resort Hotel|          0|       37|             2015|              July|                        1|     2|    PRT| Offline TA/TO|               TA/TO|\n",
      "|Resort Hotel|          0|       12|             2015|              July|                        1|     2|    IRL|     Online TA|               TA/TO|\n",
      "|Resort Hotel|          0|        0|             2015|              July|                        1|     2|    FRA|     Corporate|           Corporate|\n",
      "|Resort Hotel|          0|        7|             2015|              July|                        1|     2|    GBR|        Direct|              Direct|\n",
      "+------------+-----------+---------+-----------------+------------------+-------------------------+------+-------+--------------+--------------------+\n",
      "only showing top 20 rows\n",
      "\n"
     ]
    }
   ],
   "source": [
    "df.show()"
   ]
  },
  {
   "cell_type": "markdown",
   "metadata": {
    "colab_type": "text",
    "id": "xvPN3LkKqL2I"
   },
   "source": [
    "# Data Set  = \"Hotel_Bookings.csv\"\n",
    "\n",
    "## Showing Data as RDD"
   ]
  },
  {
   "cell_type": "code",
   "execution_count": 0,
   "metadata": {
    "colab": {},
    "colab_type": "code",
    "id": "j5rsZAnKqOWk"
   },
   "outputs": [],
   "source": [
    "RDD = spark.sparkContext.textFile(\"/content/sample_data/hotel_bookings.csv\")"
   ]
  },
  {
   "cell_type": "code",
   "execution_count": 14,
   "metadata": {
    "colab": {
     "base_uri": "https://localhost:8080/",
     "height": 213
    },
    "colab_type": "code",
    "id": "vIwojaRkq4Xl",
    "outputId": "fee3ff6a-d26c-4f15-ce36-6fbbe75ca598"
   },
   "outputs": [
    {
     "data": {
      "text/plain": [
       "['hotel,is_canceled,lead_time,arrival_date_year,arrival_date_month,arrival_date_day_of_month,adults,country,market_segment,distribution_channel',\n",
       " 'Resort Hotel,0,342,2015,July,1,2,PRT,Direct,Direct',\n",
       " 'Resort Hotel,0,737,2015,July,1,2,PRT,Direct,Direct',\n",
       " 'Resort Hotel,0,7,2015,July,1,1,GBR,Direct,Direct',\n",
       " 'Resort Hotel,0,13,2015,July,1,1,GBR,Corporate,Corporate',\n",
       " 'Resort Hotel,0,14,2015,July,1,2,GBR,Online TA,TA/TO',\n",
       " 'Resort Hotel,0,14,2015,July,1,2,GBR,Online TA,TA/TO',\n",
       " 'Resort Hotel,0,0,2015,July,1,2,PRT,Direct,Direct',\n",
       " 'Resort Hotel,0,9,2015,July,1,2,PRT,Direct,Direct',\n",
       " 'Resort Hotel,1,85,2015,July,1,2,PRT,Online TA,TA/TO']"
      ]
     },
     "execution_count": 14,
     "metadata": {
      "tags": []
     },
     "output_type": "execute_result"
    }
   ],
   "source": [
    "RDD.take(10)"
   ]
  },
  {
   "cell_type": "markdown",
   "metadata": {
    "colab_type": "text",
    "id": "n5GcKEsPxWuk"
   },
   "source": [
    "## RDD TO SPARK DATAFRAME\n",
    "\n",
    "### Importing the Libraries "
   ]
  },
  {
   "cell_type": "code",
   "execution_count": 0,
   "metadata": {
    "colab": {},
    "colab_type": "code",
    "id": "6CTeyTsCx8h3"
   },
   "outputs": [],
   "source": [
    "from pyspark.sql.functions import *\n",
    "from pyspark.sql import Row\n",
    "from pyspark.sql.types import *"
   ]
  },
  {
   "cell_type": "code",
   "execution_count": 16,
   "metadata": {
    "colab": {
     "base_uri": "https://localhost:8080/",
     "height": 178
    },
    "colab_type": "code",
    "id": "gHznS52-n7aH",
    "outputId": "edaf61cf-456b-4b78-830f-75c4dc8b3c16"
   },
   "outputs": [
    {
     "name": "stdout",
     "output_type": "stream",
     "text": [
      "+------------+-----------+---------+-----------------+------------------+-------------------------+------+-------+--------------+--------------------+\n",
      "|       hotel|is_canceled|lead_time|arrival_date_year|arrival_date_month|arrival_date_day_of_month|adults|country|market_segment|distribution_channel|\n",
      "+------------+-----------+---------+-----------------+------------------+-------------------------+------+-------+--------------+--------------------+\n",
      "|Resort Hotel|          0|      342|             2015|              July|                        1|     2|    PRT|        Direct|              Direct|\n",
      "|Resort Hotel|          0|      737|             2015|              July|                        1|     2|    PRT|        Direct|              Direct|\n",
      "+------------+-----------+---------+-----------------+------------------+-------------------------+------+-------+--------------+--------------------+\n",
      "only showing top 2 rows\n",
      "\n"
     ]
    }
   ],
   "source": [
    "df.show(2)"
   ]
  },
  {
   "cell_type": "code",
   "execution_count": 18,
   "metadata": {
    "colab": {
     "base_uri": "https://localhost:8080/",
     "height": 319
    },
    "colab_type": "code",
    "id": "SKVz1q9QxYfL",
    "outputId": "61c3a26c-f081-4acd-c16a-cdf98a33ce91"
   },
   "outputs": [
    {
     "name": "stdout",
     "output_type": "stream",
     "text": [
      "+--------------------+-------------------------+-----------------+-------+--------------------+------------+-----------+---------+--------------+\n",
      "|              adults|arrival_date_day_of_month|arrival_date_year|country|distribution_channel|       hotel|is_canceled|lead_time|market_segment|\n",
      "+--------------------+-------------------------+-----------------+-------+--------------------+------------+-----------+---------+--------------+\n",
      "|arrival_date_day_...|       arrival_date_month|arrival_date_year| adults|      market_segment|       hotel|is_canceled|lead_time|       country|\n",
      "|                   1|                     July|             2015|      2|              Direct|Resort Hotel|          0|      342|           PRT|\n",
      "|                   1|                     July|             2015|      2|              Direct|Resort Hotel|          0|      737|           PRT|\n",
      "|                   1|                     July|             2015|      1|              Direct|Resort Hotel|          0|        7|           GBR|\n",
      "|                   1|                     July|             2015|      1|           Corporate|Resort Hotel|          0|       13|           GBR|\n",
      "|                   1|                     July|             2015|      2|           Online TA|Resort Hotel|          0|       14|           GBR|\n",
      "|                   1|                     July|             2015|      2|           Online TA|Resort Hotel|          0|       14|           GBR|\n",
      "|                   1|                     July|             2015|      2|              Direct|Resort Hotel|          0|        0|           PRT|\n",
      "|                   1|                     July|             2015|      2|              Direct|Resort Hotel|          0|        9|           PRT|\n",
      "|                   1|                     July|             2015|      2|           Online TA|Resort Hotel|          1|       85|           PRT|\n",
      "+--------------------+-------------------------+-----------------+-------+--------------------+------------+-----------+---------+--------------+\n",
      "only showing top 10 rows\n",
      "\n"
     ]
    }
   ],
   "source": [
    "dataset = RDD.map(lambda x : x.split(\",\"))\n",
    "data = dataset.map(lambda p: Row(hotel=p[0],is_canceled=p[1],lead_time=p[2],arrival_date_year=p[3],arrival_date_day_of_month=p[4],adults=p[5],country=p[6],market_segment=p[7],distribution_channel=p[8]))\n",
    "RDD_DF = spark.createDataFrame(data)\n",
    "RDD_DF.show(10)"
   ]
  },
  {
   "cell_type": "markdown",
   "metadata": {
    "colab_type": "text",
    "id": "GKsEW3Hb0i1u"
   },
   "source": [
    "\n",
    "\n",
    "## Spark Data to RDD Converstion"
   ]
  },
  {
   "cell_type": "code",
   "execution_count": 74,
   "metadata": {
    "colab": {
     "base_uri": "https://localhost:8080/",
     "height": 1000
    },
    "colab_type": "code",
    "id": "hcI2dROs3i0L",
    "outputId": "f5318555-e36a-45a7-d7b9-5a26f2ed7463"
   },
   "outputs": [
    {
     "data": {
      "text/plain": [
       "[('Resort Hotel',\n",
       "  '0',\n",
       "  '342',\n",
       "  '2015',\n",
       "  'July',\n",
       "  '1',\n",
       "  '2',\n",
       "  'PRT',\n",
       "  'Direct',\n",
       "  'Direct'),\n",
       " ('Resort Hotel',\n",
       "  '0',\n",
       "  '737',\n",
       "  '2015',\n",
       "  'July',\n",
       "  '1',\n",
       "  '2',\n",
       "  'PRT',\n",
       "  'Direct',\n",
       "  'Direct'),\n",
       " ('Resort Hotel',\n",
       "  '0',\n",
       "  '7',\n",
       "  '2015',\n",
       "  'July',\n",
       "  '1',\n",
       "  '1',\n",
       "  'GBR',\n",
       "  'Direct',\n",
       "  'Direct'),\n",
       " ('Resort Hotel',\n",
       "  '0',\n",
       "  '13',\n",
       "  '2015',\n",
       "  'July',\n",
       "  '1',\n",
       "  '1',\n",
       "  'GBR',\n",
       "  'Corporate',\n",
       "  'Corporate'),\n",
       " ('Resort Hotel',\n",
       "  '0',\n",
       "  '14',\n",
       "  '2015',\n",
       "  'July',\n",
       "  '1',\n",
       "  '2',\n",
       "  'GBR',\n",
       "  'Online TA',\n",
       "  'TA/TO'),\n",
       " ('Resort Hotel',\n",
       "  '0',\n",
       "  '14',\n",
       "  '2015',\n",
       "  'July',\n",
       "  '1',\n",
       "  '2',\n",
       "  'GBR',\n",
       "  'Online TA',\n",
       "  'TA/TO'),\n",
       " ('Resort Hotel',\n",
       "  '0',\n",
       "  '0',\n",
       "  '2015',\n",
       "  'July',\n",
       "  '1',\n",
       "  '2',\n",
       "  'PRT',\n",
       "  'Direct',\n",
       "  'Direct'),\n",
       " ('Resort Hotel',\n",
       "  '0',\n",
       "  '9',\n",
       "  '2015',\n",
       "  'July',\n",
       "  '1',\n",
       "  '2',\n",
       "  'PRT',\n",
       "  'Direct',\n",
       "  'Direct'),\n",
       " ('Resort Hotel',\n",
       "  '1',\n",
       "  '85',\n",
       "  '2015',\n",
       "  'July',\n",
       "  '1',\n",
       "  '2',\n",
       "  'PRT',\n",
       "  'Online TA',\n",
       "  'TA/TO'),\n",
       " ('Resort Hotel',\n",
       "  '1',\n",
       "  '75',\n",
       "  '2015',\n",
       "  'July',\n",
       "  '1',\n",
       "  '2',\n",
       "  'PRT',\n",
       "  'Offline TA/TO',\n",
       "  'TA/TO'),\n",
       " ('Resort Hotel',\n",
       "  '1',\n",
       "  '23',\n",
       "  '2015',\n",
       "  'July',\n",
       "  '1',\n",
       "  '2',\n",
       "  'PRT',\n",
       "  'Online TA',\n",
       "  'TA/TO'),\n",
       " ('Resort Hotel',\n",
       "  '0',\n",
       "  '35',\n",
       "  '2015',\n",
       "  'July',\n",
       "  '1',\n",
       "  '2',\n",
       "  'PRT',\n",
       "  'Online TA',\n",
       "  'TA/TO'),\n",
       " ('Resort Hotel',\n",
       "  '0',\n",
       "  '68',\n",
       "  '2015',\n",
       "  'July',\n",
       "  '1',\n",
       "  '2',\n",
       "  'USA',\n",
       "  'Online TA',\n",
       "  'TA/TO'),\n",
       " ('Resort Hotel',\n",
       "  '0',\n",
       "  '18',\n",
       "  '2015',\n",
       "  'July',\n",
       "  '1',\n",
       "  '2',\n",
       "  'ESP',\n",
       "  'Online TA',\n",
       "  'TA/TO'),\n",
       " ('Resort Hotel',\n",
       "  '0',\n",
       "  '37',\n",
       "  '2015',\n",
       "  'July',\n",
       "  '1',\n",
       "  '2',\n",
       "  'PRT',\n",
       "  'Online TA',\n",
       "  'TA/TO'),\n",
       " ('Resort Hotel',\n",
       "  '0',\n",
       "  '68',\n",
       "  '2015',\n",
       "  'July',\n",
       "  '1',\n",
       "  '2',\n",
       "  'IRL',\n",
       "  'Online TA',\n",
       "  'TA/TO'),\n",
       " ('Resort Hotel',\n",
       "  '0',\n",
       "  '37',\n",
       "  '2015',\n",
       "  'July',\n",
       "  '1',\n",
       "  '2',\n",
       "  'PRT',\n",
       "  'Offline TA/TO',\n",
       "  'TA/TO'),\n",
       " ('Resort Hotel',\n",
       "  '0',\n",
       "  '12',\n",
       "  '2015',\n",
       "  'July',\n",
       "  '1',\n",
       "  '2',\n",
       "  'IRL',\n",
       "  'Online TA',\n",
       "  'TA/TO'),\n",
       " ('Resort Hotel',\n",
       "  '0',\n",
       "  '0',\n",
       "  '2015',\n",
       "  'July',\n",
       "  '1',\n",
       "  '2',\n",
       "  'FRA',\n",
       "  'Corporate',\n",
       "  'Corporate'),\n",
       " ('Resort Hotel',\n",
       "  '0',\n",
       "  '7',\n",
       "  '2015',\n",
       "  'July',\n",
       "  '1',\n",
       "  '2',\n",
       "  'GBR',\n",
       "  'Direct',\n",
       "  'Direct')]"
      ]
     },
     "execution_count": 74,
     "metadata": {
      "tags": []
     },
     "output_type": "execute_result"
    }
   ],
   "source": [
    "SDF_TO_RDD = df.rdd.map(tuple)\n",
    "SDF_TO_RDD.take(20)"
   ]
  },
  {
   "cell_type": "markdown",
   "metadata": {
    "colab_type": "text",
    "id": "BqRSbj6M1q3c"
   },
   "source": [
    "## Spark to Pandas converstion"
   ]
  },
  {
   "cell_type": "code",
   "execution_count": 23,
   "metadata": {
    "colab": {
     "base_uri": "https://localhost:8080/",
     "height": 609
    },
    "colab_type": "code",
    "id": "r1EtwozlziAU",
    "outputId": "18ecaa42-d51e-460e-c4c0-87418948ac2f"
   },
   "outputs": [
    {
     "data": {
      "text/html": [
       "<div>\n",
       "<style scoped>\n",
       "    .dataframe tbody tr th:only-of-type {\n",
       "        vertical-align: middle;\n",
       "    }\n",
       "\n",
       "    .dataframe tbody tr th {\n",
       "        vertical-align: top;\n",
       "    }\n",
       "\n",
       "    .dataframe thead th {\n",
       "        text-align: right;\n",
       "    }\n",
       "</style>\n",
       "<table border=\"1\" class=\"dataframe\">\n",
       "  <thead>\n",
       "    <tr style=\"text-align: right;\">\n",
       "      <th></th>\n",
       "      <th>hotel</th>\n",
       "      <th>is_canceled</th>\n",
       "      <th>lead_time</th>\n",
       "      <th>arrival_date_year</th>\n",
       "      <th>arrival_date_month</th>\n",
       "      <th>arrival_date_day_of_month</th>\n",
       "      <th>adults</th>\n",
       "      <th>country</th>\n",
       "      <th>market_segment</th>\n",
       "      <th>distribution_channel</th>\n",
       "    </tr>\n",
       "  </thead>\n",
       "  <tbody>\n",
       "    <tr>\n",
       "      <th>0</th>\n",
       "      <td>Resort Hotel</td>\n",
       "      <td>0</td>\n",
       "      <td>342</td>\n",
       "      <td>2015</td>\n",
       "      <td>July</td>\n",
       "      <td>1</td>\n",
       "      <td>2</td>\n",
       "      <td>PRT</td>\n",
       "      <td>Direct</td>\n",
       "      <td>Direct</td>\n",
       "    </tr>\n",
       "    <tr>\n",
       "      <th>1</th>\n",
       "      <td>Resort Hotel</td>\n",
       "      <td>0</td>\n",
       "      <td>737</td>\n",
       "      <td>2015</td>\n",
       "      <td>July</td>\n",
       "      <td>1</td>\n",
       "      <td>2</td>\n",
       "      <td>PRT</td>\n",
       "      <td>Direct</td>\n",
       "      <td>Direct</td>\n",
       "    </tr>\n",
       "    <tr>\n",
       "      <th>2</th>\n",
       "      <td>Resort Hotel</td>\n",
       "      <td>0</td>\n",
       "      <td>7</td>\n",
       "      <td>2015</td>\n",
       "      <td>July</td>\n",
       "      <td>1</td>\n",
       "      <td>1</td>\n",
       "      <td>GBR</td>\n",
       "      <td>Direct</td>\n",
       "      <td>Direct</td>\n",
       "    </tr>\n",
       "    <tr>\n",
       "      <th>3</th>\n",
       "      <td>Resort Hotel</td>\n",
       "      <td>0</td>\n",
       "      <td>13</td>\n",
       "      <td>2015</td>\n",
       "      <td>July</td>\n",
       "      <td>1</td>\n",
       "      <td>1</td>\n",
       "      <td>GBR</td>\n",
       "      <td>Corporate</td>\n",
       "      <td>Corporate</td>\n",
       "    </tr>\n",
       "    <tr>\n",
       "      <th>4</th>\n",
       "      <td>Resort Hotel</td>\n",
       "      <td>0</td>\n",
       "      <td>14</td>\n",
       "      <td>2015</td>\n",
       "      <td>July</td>\n",
       "      <td>1</td>\n",
       "      <td>2</td>\n",
       "      <td>GBR</td>\n",
       "      <td>Online TA</td>\n",
       "      <td>TA/TO</td>\n",
       "    </tr>\n",
       "    <tr>\n",
       "      <th>...</th>\n",
       "      <td>...</td>\n",
       "      <td>...</td>\n",
       "      <td>...</td>\n",
       "      <td>...</td>\n",
       "      <td>...</td>\n",
       "      <td>...</td>\n",
       "      <td>...</td>\n",
       "      <td>...</td>\n",
       "      <td>...</td>\n",
       "      <td>...</td>\n",
       "    </tr>\n",
       "    <tr>\n",
       "      <th>119385</th>\n",
       "      <td>City Hotel</td>\n",
       "      <td>0</td>\n",
       "      <td>23</td>\n",
       "      <td>2017</td>\n",
       "      <td>August</td>\n",
       "      <td>30</td>\n",
       "      <td>2</td>\n",
       "      <td>BEL</td>\n",
       "      <td>Offline TA/TO</td>\n",
       "      <td>TA/TO</td>\n",
       "    </tr>\n",
       "    <tr>\n",
       "      <th>119386</th>\n",
       "      <td>City Hotel</td>\n",
       "      <td>0</td>\n",
       "      <td>102</td>\n",
       "      <td>2017</td>\n",
       "      <td>August</td>\n",
       "      <td>31</td>\n",
       "      <td>3</td>\n",
       "      <td>FRA</td>\n",
       "      <td>Online TA</td>\n",
       "      <td>TA/TO</td>\n",
       "    </tr>\n",
       "    <tr>\n",
       "      <th>119387</th>\n",
       "      <td>City Hotel</td>\n",
       "      <td>0</td>\n",
       "      <td>34</td>\n",
       "      <td>2017</td>\n",
       "      <td>August</td>\n",
       "      <td>31</td>\n",
       "      <td>2</td>\n",
       "      <td>DEU</td>\n",
       "      <td>Online TA</td>\n",
       "      <td>TA/TO</td>\n",
       "    </tr>\n",
       "    <tr>\n",
       "      <th>119388</th>\n",
       "      <td>City Hotel</td>\n",
       "      <td>0</td>\n",
       "      <td>109</td>\n",
       "      <td>2017</td>\n",
       "      <td>August</td>\n",
       "      <td>31</td>\n",
       "      <td>2</td>\n",
       "      <td>GBR</td>\n",
       "      <td>Online TA</td>\n",
       "      <td>TA/TO</td>\n",
       "    </tr>\n",
       "    <tr>\n",
       "      <th>119389</th>\n",
       "      <td>City Hotel</td>\n",
       "      <td>0</td>\n",
       "      <td>205</td>\n",
       "      <td>2017</td>\n",
       "      <td>August</td>\n",
       "      <td>29</td>\n",
       "      <td>2</td>\n",
       "      <td>DEU</td>\n",
       "      <td>Online TA</td>\n",
       "      <td>TA/TO</td>\n",
       "    </tr>\n",
       "  </tbody>\n",
       "</table>\n",
       "<p>119390 rows × 10 columns</p>\n",
       "</div>"
      ],
      "text/plain": [
       "               hotel is_canceled  ... market_segment distribution_channel\n",
       "0       Resort Hotel           0  ...         Direct               Direct\n",
       "1       Resort Hotel           0  ...         Direct               Direct\n",
       "2       Resort Hotel           0  ...         Direct               Direct\n",
       "3       Resort Hotel           0  ...      Corporate            Corporate\n",
       "4       Resort Hotel           0  ...      Online TA                TA/TO\n",
       "...              ...         ...  ...            ...                  ...\n",
       "119385    City Hotel           0  ...  Offline TA/TO                TA/TO\n",
       "119386    City Hotel           0  ...      Online TA                TA/TO\n",
       "119387    City Hotel           0  ...      Online TA                TA/TO\n",
       "119388    City Hotel           0  ...      Online TA                TA/TO\n",
       "119389    City Hotel           0  ...      Online TA                TA/TO\n",
       "\n",
       "[119390 rows x 10 columns]"
      ]
     },
     "execution_count": 23,
     "metadata": {
      "tags": []
     },
     "output_type": "execute_result"
    }
   ],
   "source": [
    "SDF_TO_DF = df.toPandas()\n",
    "SDF_TO_DF"
   ]
  },
  {
   "cell_type": "markdown",
   "metadata": {
    "colab_type": "text",
    "id": "Q6Gl-j_M3HCR"
   },
   "source": [
    "## (Spark) Select first 10 rows of dataset"
   ]
  },
  {
   "cell_type": "code",
   "execution_count": 29,
   "metadata": {
    "colab": {
     "base_uri": "https://localhost:8080/",
     "height": 319
    },
    "colab_type": "code",
    "id": "uLqTjQqH2Omx",
    "outputId": "cb3f414a-ad69-44cb-9b7c-61eb8b0170e1"
   },
   "outputs": [
    {
     "name": "stdout",
     "output_type": "stream",
     "text": [
      "+------------+-----------+---------+-----------------+------------------+-------------------------+------+-------+--------------+--------------------+\n",
      "|       hotel|is_canceled|lead_time|arrival_date_year|arrival_date_month|arrival_date_day_of_month|adults|country|market_segment|distribution_channel|\n",
      "+------------+-----------+---------+-----------------+------------------+-------------------------+------+-------+--------------+--------------------+\n",
      "|Resort Hotel|          0|      342|             2015|              July|                        1|     2|    PRT|        Direct|              Direct|\n",
      "|Resort Hotel|          0|      737|             2015|              July|                        1|     2|    PRT|        Direct|              Direct|\n",
      "|Resort Hotel|          0|        7|             2015|              July|                        1|     1|    GBR|        Direct|              Direct|\n",
      "|Resort Hotel|          0|       13|             2015|              July|                        1|     1|    GBR|     Corporate|           Corporate|\n",
      "|Resort Hotel|          0|       14|             2015|              July|                        1|     2|    GBR|     Online TA|               TA/TO|\n",
      "|Resort Hotel|          0|       14|             2015|              July|                        1|     2|    GBR|     Online TA|               TA/TO|\n",
      "|Resort Hotel|          0|        0|             2015|              July|                        1|     2|    PRT|        Direct|              Direct|\n",
      "|Resort Hotel|          0|        9|             2015|              July|                        1|     2|    PRT|        Direct|              Direct|\n",
      "|Resort Hotel|          1|       85|             2015|              July|                        1|     2|    PRT|     Online TA|               TA/TO|\n",
      "|Resort Hotel|          1|       75|             2015|              July|                        1|     2|    PRT| Offline TA/TO|               TA/TO|\n",
      "+------------+-----------+---------+-----------------+------------------+-------------------------+------+-------+--------------+--------------------+\n",
      "only showing top 10 rows\n",
      "\n"
     ]
    }
   ],
   "source": [
    "df.show(10)"
   ]
  },
  {
   "cell_type": "markdown",
   "metadata": {
    "colab_type": "text",
    "id": "22cIFoeXC93U"
   },
   "source": [
    "## (SQL) Select first 10 rows of dataset "
   ]
  },
  {
   "cell_type": "code",
   "execution_count": 0,
   "metadata": {
    "colab": {},
    "colab_type": "code",
    "id": "1dZHF5KqCU0A"
   },
   "outputs": [],
   "source": [
    "df.createOrReplaceTempView(\"temp_sql\")"
   ]
  },
  {
   "cell_type": "code",
   "execution_count": 33,
   "metadata": {
    "colab": {
     "base_uri": "https://localhost:8080/",
     "height": 301
    },
    "colab_type": "code",
    "id": "tmDYHh8r_WMI",
    "outputId": "788d5ce4-5329-4efb-bd85-46661b026a5d"
   },
   "outputs": [
    {
     "name": "stdout",
     "output_type": "stream",
     "text": [
      "+------------+-----------+---------+-----------------+------------------+-------------------------+------+-------+--------------+--------------------+\n",
      "|       hotel|is_canceled|lead_time|arrival_date_year|arrival_date_month|arrival_date_day_of_month|adults|country|market_segment|distribution_channel|\n",
      "+------------+-----------+---------+-----------------+------------------+-------------------------+------+-------+--------------+--------------------+\n",
      "|Resort Hotel|          0|      342|             2015|              July|                        1|     2|    PRT|        Direct|              Direct|\n",
      "|Resort Hotel|          0|      737|             2015|              July|                        1|     2|    PRT|        Direct|              Direct|\n",
      "|Resort Hotel|          0|        7|             2015|              July|                        1|     1|    GBR|        Direct|              Direct|\n",
      "|Resort Hotel|          0|       13|             2015|              July|                        1|     1|    GBR|     Corporate|           Corporate|\n",
      "|Resort Hotel|          0|       14|             2015|              July|                        1|     2|    GBR|     Online TA|               TA/TO|\n",
      "|Resort Hotel|          0|       14|             2015|              July|                        1|     2|    GBR|     Online TA|               TA/TO|\n",
      "|Resort Hotel|          0|        0|             2015|              July|                        1|     2|    PRT|        Direct|              Direct|\n",
      "|Resort Hotel|          0|        9|             2015|              July|                        1|     2|    PRT|        Direct|              Direct|\n",
      "|Resort Hotel|          1|       85|             2015|              July|                        1|     2|    PRT|     Online TA|               TA/TO|\n",
      "|Resort Hotel|          1|       75|             2015|              July|                        1|     2|    PRT| Offline TA/TO|               TA/TO|\n",
      "+------------+-----------+---------+-----------------+------------------+-------------------------+------+-------+--------------+--------------------+\n",
      "\n"
     ]
    }
   ],
   "source": [
    "lim_df_10 = spark.sql(\"\"\"\n",
    "select * \n",
    "from temp_sql \n",
    "LIMIT 10\n",
    "\"\"\")\n",
    "\n",
    "lim_df_10.show()"
   ]
  },
  {
   "cell_type": "markdown",
   "metadata": {
    "colab_type": "text",
    "id": "a9dpSIs23U-_"
   },
   "source": [
    "## Spark DataSet Schema/"
   ]
  },
  {
   "cell_type": "code",
   "execution_count": 34,
   "metadata": {
    "colab": {
     "base_uri": "https://localhost:8080/",
     "height": 228
    },
    "colab_type": "code",
    "id": "cqx60kgL3Kyy",
    "outputId": "f31c835a-8c1a-4074-e8fc-33ecc8d6666b"
   },
   "outputs": [
    {
     "name": "stdout",
     "output_type": "stream",
     "text": [
      "root\n",
      " |-- hotel: string (nullable = true)\n",
      " |-- is_canceled: string (nullable = true)\n",
      " |-- lead_time: string (nullable = true)\n",
      " |-- arrival_date_year: string (nullable = true)\n",
      " |-- arrival_date_month: string (nullable = true)\n",
      " |-- arrival_date_day_of_month: string (nullable = true)\n",
      " |-- adults: string (nullable = true)\n",
      " |-- country: string (nullable = true)\n",
      " |-- market_segment: string (nullable = true)\n",
      " |-- distribution_channel: string (nullable = true)\n",
      "\n"
     ]
    }
   ],
   "source": [
    "df.printSchema()"
   ]
  },
  {
   "cell_type": "markdown",
   "metadata": {
    "colab_type": "text",
    "id": "V6u8TZFIDf_J"
   },
   "source": [
    "## SQL Dataset Schema and Describing the Dataset"
   ]
  },
  {
   "cell_type": "code",
   "execution_count": 37,
   "metadata": {
    "colab": {
     "base_uri": "https://localhost:8080/",
     "height": 281
    },
    "colab_type": "code",
    "id": "vrgq7JIdDjZE",
    "outputId": "fdf85d4d-ff55-4911-fc38-9c731790b6bc"
   },
   "outputs": [
    {
     "name": "stdout",
     "output_type": "stream",
     "text": [
      "+--------------------+---------+-------+\n",
      "|            col_name|data_type|comment|\n",
      "+--------------------+---------+-------+\n",
      "|               hotel|   string|   null|\n",
      "|         is_canceled|   string|   null|\n",
      "|           lead_time|   string|   null|\n",
      "|   arrival_date_year|   string|   null|\n",
      "|  arrival_date_month|   string|   null|\n",
      "|arrival_date_day_...|   string|   null|\n",
      "|              adults|   string|   null|\n",
      "|             country|   string|   null|\n",
      "|      market_segment|   string|   null|\n",
      "|distribution_channel|   string|   null|\n",
      "+--------------------+---------+-------+\n",
      "\n"
     ]
    }
   ],
   "source": [
    "desc_df = \"\"\"\n",
    "describe temp_sql\n",
    "\"\"\"\n",
    "spark.sql(desc_df).show()"
   ]
  },
  {
   "cell_type": "markdown",
   "metadata": {
    "colab_type": "text",
    "id": "pzLkThDu5UGs"
   },
   "source": [
    "## (Spark) Group by and get max, min, count of a column in the dataset"
   ]
  },
  {
   "cell_type": "code",
   "execution_count": 40,
   "metadata": {
    "colab": {
     "base_uri": "https://localhost:8080/",
     "height": 351
    },
    "colab_type": "code",
    "id": "4aTwyDS73Zf0",
    "outputId": "e244fbfc-f119-490d-92e1-632395b143e5"
   },
   "outputs": [
    {
     "name": "stdout",
     "output_type": "stream",
     "text": [
      "+------+-----+\n",
      "|adults|count|\n",
      "+------+-----+\n",
      "|     3| 6202|\n",
      "|     0|  403|\n",
      "|     5|    2|\n",
      "|    27|    2|\n",
      "|    26|    5|\n",
      "|     6|    1|\n",
      "|    55|    1|\n",
      "|    40|    1|\n",
      "|     1|23027|\n",
      "|    20|    2|\n",
      "|    10|    1|\n",
      "|     4|   62|\n",
      "|     2|89680|\n",
      "|    50|    1|\n",
      "+------+-----+\n",
      "\n"
     ]
    }
   ],
   "source": [
    "df.groupBy('adults').count().show()"
   ]
  },
  {
   "cell_type": "code",
   "execution_count": 42,
   "metadata": {
    "colab": {
     "base_uri": "https://localhost:8080/",
     "height": 123
    },
    "colab_type": "code",
    "id": "CxA5bY5VsYR3",
    "outputId": "ceddf4a8-3966-486c-8bb9-79aefd0af692"
   },
   "outputs": [
    {
     "name": "stdout",
     "output_type": "stream",
     "text": [
      "+-----------+\n",
      "|max(adults)|\n",
      "+-----------+\n",
      "|          6|\n",
      "+-----------+\n",
      "\n"
     ]
    }
   ],
   "source": [
    "df.select(max('adults')).show()"
   ]
  },
  {
   "cell_type": "code",
   "execution_count": 43,
   "metadata": {
    "colab": {
     "base_uri": "https://localhost:8080/",
     "height": 123
    },
    "colab_type": "code",
    "id": "hdCrmUrUsadp",
    "outputId": "67e0b10e-43cd-4348-824e-eedfb8df4ca0"
   },
   "outputs": [
    {
     "name": "stdout",
     "output_type": "stream",
     "text": [
      "+-----------+\n",
      "|min(adults)|\n",
      "+-----------+\n",
      "|          0|\n",
      "+-----------+\n",
      "\n"
     ]
    }
   ],
   "source": [
    "df.select(min('adults')).show()"
   ]
  },
  {
   "cell_type": "markdown",
   "metadata": {
    "colab_type": "text",
    "id": "pi5Zh_B9Ftqz"
   },
   "source": [
    "## (SQL) Group by and get max, min, count of a column in the dataset "
   ]
  },
  {
   "cell_type": "code",
   "execution_count": 44,
   "metadata": {
    "colab": {
     "base_uri": "https://localhost:8080/",
     "height": 351
    },
    "colab_type": "code",
    "id": "-cew_9l8sP-w",
    "outputId": "219f192c-01c4-45a6-8c35-2caabdcd7559"
   },
   "outputs": [
    {
     "name": "stdout",
     "output_type": "stream",
     "text": [
      "+------+-------------+\n",
      "|adults|count(adults)|\n",
      "+------+-------------+\n",
      "|     3|         6202|\n",
      "|     0|          403|\n",
      "|     5|            2|\n",
      "|    27|            2|\n",
      "|    26|            5|\n",
      "|     6|            1|\n",
      "|    55|            1|\n",
      "|    40|            1|\n",
      "|     1|        23027|\n",
      "|    20|            2|\n",
      "|    10|            1|\n",
      "|     4|           62|\n",
      "|     2|        89680|\n",
      "|    50|            1|\n",
      "+------+-------------+\n",
      "\n"
     ]
    }
   ],
   "source": [
    "t3 = \"\"\"\n",
    "select adults, count(adults) \n",
    "from temp_sql \n",
    "group by adults\n",
    "\"\"\"\n",
    "spark.sql(t3).show()"
   ]
  },
  {
   "cell_type": "code",
   "execution_count": 48,
   "metadata": {
    "colab": {
     "base_uri": "https://localhost:8080/",
     "height": 123
    },
    "colab_type": "code",
    "id": "nlyfi0GftmAi",
    "outputId": "6637d7c3-b95f-4143-d49b-76611900d3fe"
   },
   "outputs": [
    {
     "name": "stdout",
     "output_type": "stream",
     "text": [
      "+----------+\n",
      "|old_person|\n",
      "+----------+\n",
      "|         6|\n",
      "+----------+\n",
      "\n"
     ]
    }
   ],
   "source": [
    "t3_1 = \"\"\"\n",
    "select max(adults) as old_person \n",
    "from temp_sql\n",
    "\"\"\"\n",
    "spark.sql(t3_1).show()"
   ]
  },
  {
   "cell_type": "code",
   "execution_count": 46,
   "metadata": {
    "colab": {
     "base_uri": "https://localhost:8080/",
     "height": 123
    },
    "colab_type": "code",
    "id": "wn7NSonVF00G",
    "outputId": "99bd6565-4c2d-4d9c-bd23-28fccef0b920"
   },
   "outputs": [
    {
     "name": "stdout",
     "output_type": "stream",
     "text": [
      "+------------+\n",
      "|young_person|\n",
      "+------------+\n",
      "|           0|\n",
      "+------------+\n",
      "\n"
     ]
    }
   ],
   "source": [
    "t3_2 = \"\"\"\n",
    "select min(adults) as young_person \n",
    "from temp_sql\n",
    "\"\"\"\n",
    "spark.sql(t3_2).show()"
   ]
  },
  {
   "cell_type": "markdown",
   "metadata": {
    "colab_type": "text",
    "id": "EuLNqek45Zpe"
   },
   "source": [
    "## Spark - Filter your dataset by some conditions based on your column "
   ]
  },
  {
   "cell_type": "code",
   "execution_count": 49,
   "metadata": {
    "colab": {
     "base_uri": "https://localhost:8080/",
     "height": 160
    },
    "colab_type": "code",
    "id": "VGQkqXo94mmu",
    "outputId": "f3785cb4-cdbd-432f-8298-957f2ee100b7"
   },
   "outputs": [
    {
     "name": "stdout",
     "output_type": "stream",
     "text": [
      "+------------+-----------+---------+-----------------+------------------+-------------------------+------+-------+--------------+--------------------+\n",
      "|       hotel|is_canceled|lead_time|arrival_date_year|arrival_date_month|arrival_date_day_of_month|adults|country|market_segment|distribution_channel|\n",
      "+------------+-----------+---------+-----------------+------------------+-------------------------+------+-------+--------------+--------------------+\n",
      "|Resort Hotel|          1|      336|             2015|         September|                        7|    50|    PRT|        Direct|              Direct|\n",
      "|Resort Hotel|          1|      338|             2015|           October|                        4|    55|    PRT|        Direct|              Direct|\n",
      "+------------+-----------+---------+-----------------+------------------+-------------------------+------+-------+--------------+--------------------+\n",
      "\n"
     ]
    }
   ],
   "source": [
    "# Only two members are over age 40\n",
    "old_adult = df.filter(df['adults'] > 40)\n",
    "old_adult.show()"
   ]
  },
  {
   "cell_type": "markdown",
   "metadata": {
    "colab_type": "text",
    "id": "osjAfXZqG6Yg"
   },
   "source": [
    "## SQL  Filter your dataset by some conditions based on your column"
   ]
  },
  {
   "cell_type": "code",
   "execution_count": 50,
   "metadata": {
    "colab": {
     "base_uri": "https://localhost:8080/",
     "height": 160
    },
    "colab_type": "code",
    "id": "vhd6yen3HBHA",
    "outputId": "3b5d6265-8d1e-415d-8b03-12e49e0b35ba"
   },
   "outputs": [
    {
     "name": "stdout",
     "output_type": "stream",
     "text": [
      "+------------+-----------+---------+-----------------+------------------+-------------------------+------+-------+--------------+--------------------+\n",
      "|       hotel|is_canceled|lead_time|arrival_date_year|arrival_date_month|arrival_date_day_of_month|adults|country|market_segment|distribution_channel|\n",
      "+------------+-----------+---------+-----------------+------------------+-------------------------+------+-------+--------------+--------------------+\n",
      "|Resort Hotel|          1|      336|             2015|         September|                        7|    50|    PRT|        Direct|              Direct|\n",
      "|Resort Hotel|          1|      338|             2015|           October|                        4|    55|    PRT|        Direct|              Direct|\n",
      "+------------+-----------+---------+-----------------+------------------+-------------------------+------+-------+--------------+--------------------+\n",
      "\n"
     ]
    }
   ],
   "source": [
    "t4 = \"\"\"\n",
    "select * \n",
    "from temp_sql where adults > 40\n",
    "\"\"\"\n",
    "spark.sql(t4).show()"
   ]
  },
  {
   "cell_type": "markdown",
   "metadata": {
    "colab_type": "text",
    "id": "eLTyOX4M5glS"
   },
   "source": [
    "## (Spark) Apply order by"
   ]
  },
  {
   "cell_type": "code",
   "execution_count": 52,
   "metadata": {
    "colab": {
     "base_uri": "https://localhost:8080/",
     "height": 475
    },
    "colab_type": "code",
    "id": "qPAm1ZKJ5z57",
    "outputId": "812488e2-6fa0-4cf0-881b-ae971a2bf8d2"
   },
   "outputs": [
    {
     "name": "stdout",
     "output_type": "stream",
     "text": [
      "+------------+-----------+---------+-----------------+------------------+-------------------------+-------+--------------+------+\n",
      "|       hotel|is_canceled|lead_time|arrival_date_year|arrival_date_month|arrival_date_day_of_month|country|market_segment|adults|\n",
      "+------------+-----------+---------+-----------------+------------------+-------------------------+-------+--------------+------+\n",
      "|Resort Hotel|          0|        1|             2015|           October|                        6|    PRT|     Corporate|     0|\n",
      "|  City Hotel|          0|       15|             2015|            August|                       28|    PRT| Complementary|     0|\n",
      "|Resort Hotel|          0|        0|             2015|           October|                       12|    PRT|     Corporate|     0|\n",
      "|Resort Hotel|          0|       36|             2015|          November|                       20|    ESP|        Groups|     0|\n",
      "|Resort Hotel|          0|      165|             2015|          December|                       30|    PRT|        Groups|     0|\n",
      "|Resort Hotel|          0|      165|             2015|          December|                       30|    PRT|        Groups|     0|\n",
      "|Resort Hotel|          1|        0|             2016|          February|                       15|   NULL| Offline TA/TO|     0|\n",
      "|Resort Hotel|          1|        0|             2016|          November|                       21|   NULL| Offline TA/TO|     0|\n",
      "|Resort Hotel|          0|       31|             2016|          December|                       27|    PRT|        Direct|     0|\n",
      "|Resort Hotel|          0|        4|             2017|           January|                       14|    PRT|        Groups|     0|\n",
      "|Resort Hotel|          0|       46|             2017|           January|                       25|    FRA|        Direct|     0|\n",
      "|Resort Hotel|          0|       15|             2017|             March|                       30|    PRT|     Corporate|     0|\n",
      "|Resort Hotel|          0|       15|             2017|             March|                       30|    PRT|     Corporate|     0|\n",
      "|Resort Hotel|          0|        1|             2017|              June|                       18|    GBR|        Direct|     0|\n",
      "|  City Hotel|          0|      132|             2015|              July|                       23|    PRT|        Groups|     0|\n",
      "|  City Hotel|          0|        0|             2015|            August|                        9|    FRA|     Online TA|     0|\n",
      "|  City Hotel|          0|        1|             2015|            August|                       10|    PRT|        Direct|     0|\n",
      "|  City Hotel|          0|        0|             2015|            August|                       10|    PRT|     Online TA|     0|\n",
      "|  City Hotel|          0|      104|             2015|            August|                       11|    FRA|     Online TA|     0|\n",
      "|  City Hotel|          0|        0|             2015|            August|                       11|    PRT|     Online TA|     0|\n",
      "+------------+-----------+---------+-----------------+------------------+-------------------------+-------+--------------+------+\n",
      "only showing top 20 rows\n",
      "\n"
     ]
    }
   ],
   "source": [
    "order_by_set = df.select('hotel','is_canceled','lead_time','arrival_date_year','arrival_date_month','arrival_date_day_of_month','country','market_segment','adults').orderBy('adults')\n",
    "order_by_set.show()"
   ]
  },
  {
   "cell_type": "markdown",
   "metadata": {
    "colab_type": "text",
    "id": "on2QuFJGHX85"
   },
   "source": [
    "## Apply order by - SQL"
   ]
  },
  {
   "cell_type": "code",
   "execution_count": 58,
   "metadata": {
    "colab": {
     "base_uri": "https://localhost:8080/",
     "height": 475
    },
    "colab_type": "code",
    "id": "eOnSmDmCHa8q",
    "outputId": "7dacf45f-d9c6-4680-b3ba-10aba3d8a4a6"
   },
   "outputs": [
    {
     "name": "stdout",
     "output_type": "stream",
     "text": [
      "+------------+-----------+---------+-----------------+------------------+-------------------------+-------+--------------+------+\n",
      "|       hotel|is_canceled|lead_time|arrival_date_year|arrival_date_month|arrival_date_day_of_month|country|market_segment|adults|\n",
      "+------------+-----------+---------+-----------------+------------------+-------------------------+-------+--------------+------+\n",
      "|Resort Hotel|          0|        1|             2015|           October|                        6|    PRT|     Corporate|     0|\n",
      "|  City Hotel|          0|       15|             2015|            August|                       28|    PRT| Complementary|     0|\n",
      "|Resort Hotel|          0|        0|             2015|           October|                       12|    PRT|     Corporate|     0|\n",
      "|Resort Hotel|          0|       36|             2015|          November|                       20|    ESP|        Groups|     0|\n",
      "|Resort Hotel|          0|      165|             2015|          December|                       30|    PRT|        Groups|     0|\n",
      "|Resort Hotel|          0|      165|             2015|          December|                       30|    PRT|        Groups|     0|\n",
      "|Resort Hotel|          1|        0|             2016|          February|                       15|   NULL| Offline TA/TO|     0|\n",
      "|Resort Hotel|          1|        0|             2016|          November|                       21|   NULL| Offline TA/TO|     0|\n",
      "|Resort Hotel|          0|       31|             2016|          December|                       27|    PRT|        Direct|     0|\n",
      "|Resort Hotel|          0|        4|             2017|           January|                       14|    PRT|        Groups|     0|\n",
      "|Resort Hotel|          0|       46|             2017|           January|                       25|    FRA|        Direct|     0|\n",
      "|Resort Hotel|          0|       15|             2017|             March|                       30|    PRT|     Corporate|     0|\n",
      "|Resort Hotel|          0|       15|             2017|             March|                       30|    PRT|     Corporate|     0|\n",
      "|Resort Hotel|          0|        1|             2017|              June|                       18|    GBR|        Direct|     0|\n",
      "|  City Hotel|          0|      132|             2015|              July|                       23|    PRT|        Groups|     0|\n",
      "|  City Hotel|          0|        0|             2015|            August|                        9|    FRA|     Online TA|     0|\n",
      "|  City Hotel|          0|        1|             2015|            August|                       10|    PRT|        Direct|     0|\n",
      "|  City Hotel|          0|        0|             2015|            August|                       10|    PRT|     Online TA|     0|\n",
      "|  City Hotel|          0|      104|             2015|            August|                       11|    FRA|     Online TA|     0|\n",
      "|  City Hotel|          0|        0|             2015|            August|                       11|    PRT|     Online TA|     0|\n",
      "+------------+-----------+---------+-----------------+------------------+-------------------------+-------+--------------+------+\n",
      "only showing top 20 rows\n",
      "\n"
     ]
    }
   ],
   "source": [
    "t5 = \"\"\"\n",
    "select hotel,is_canceled,lead_time,arrival_date_year,arrival_date_month,arrival_date_day_of_month,country,market_segment,adults \n",
    "from temp_sql \n",
    "order by adults\n",
    "\"\"\"\n",
    "spark.sql(t5).show()"
   ]
  },
  {
   "cell_type": "markdown",
   "metadata": {
    "colab_type": "text",
    "id": "AgRqUlIf6Y6b"
   },
   "source": [
    "## Spark -  Select distinct records by a column "
   ]
  },
  {
   "cell_type": "code",
   "execution_count": 59,
   "metadata": {
    "colab": {
     "base_uri": "https://localhost:8080/",
     "height": 351
    },
    "colab_type": "code",
    "id": "YadebFYM6DTw",
    "outputId": "7c8ab5fc-500e-4208-ea31-cc2ebea5e3e1"
   },
   "outputs": [
    {
     "name": "stdout",
     "output_type": "stream",
     "text": [
      "+------+\n",
      "|adults|\n",
      "+------+\n",
      "|     3|\n",
      "|     0|\n",
      "|     5|\n",
      "|    27|\n",
      "|    26|\n",
      "|     6|\n",
      "|    55|\n",
      "|    40|\n",
      "|     1|\n",
      "|    20|\n",
      "|    10|\n",
      "|     4|\n",
      "|     2|\n",
      "|    50|\n",
      "+------+\n",
      "\n"
     ]
    }
   ],
   "source": [
    "df.select('adults').distinct().show()"
   ]
  },
  {
   "cell_type": "markdown",
   "metadata": {
    "colab_type": "text",
    "id": "cOUILcCrIvRM"
   },
   "source": [
    "## Select distinct records by a column "
   ]
  },
  {
   "cell_type": "code",
   "execution_count": 61,
   "metadata": {
    "colab": {
     "base_uri": "https://localhost:8080/",
     "height": 351
    },
    "colab_type": "code",
    "id": "gV9WQ0xOI--C",
    "outputId": "3dfb944e-8d1e-443d-d5ba-a75f42b78448"
   },
   "outputs": [
    {
     "name": "stdout",
     "output_type": "stream",
     "text": [
      "+------+\n",
      "|adults|\n",
      "+------+\n",
      "|     3|\n",
      "|     0|\n",
      "|     5|\n",
      "|    27|\n",
      "|    26|\n",
      "|     6|\n",
      "|    55|\n",
      "|    40|\n",
      "|     1|\n",
      "|    20|\n",
      "|    10|\n",
      "|     4|\n",
      "|     2|\n",
      "|    50|\n",
      "+------+\n",
      "\n"
     ]
    }
   ],
   "source": [
    "t6 = \"\"\"\n",
    "select distinct adults \n",
    "from temp_sql\n",
    "\"\"\"\n",
    "spark.sql(t6).show()"
   ]
  },
  {
   "cell_type": "markdown",
   "metadata": {
    "colab_type": "text",
    "id": "VB3F12pi72V5"
   },
   "source": [
    "## Transform the data type of column from string to float "
   ]
  },
  {
   "cell_type": "code",
   "execution_count": 62,
   "metadata": {
    "colab": {
     "base_uri": "https://localhost:8080/",
     "height": 228
    },
    "colab_type": "code",
    "id": "7dISfeGl7fr3",
    "outputId": "5ae0034e-227c-4405-88d5-af0a43dc8cac"
   },
   "outputs": [
    {
     "name": "stdout",
     "output_type": "stream",
     "text": [
      "root\n",
      " |-- hotel: string (nullable = true)\n",
      " |-- is_canceled: string (nullable = true)\n",
      " |-- lead_time: string (nullable = true)\n",
      " |-- arrival_date_year: string (nullable = true)\n",
      " |-- arrival_date_month: string (nullable = true)\n",
      " |-- arrival_date_day_of_month: string (nullable = true)\n",
      " |-- adults: float (nullable = true)\n",
      " |-- country: string (nullable = true)\n",
      " |-- market_segment: string (nullable = true)\n",
      " |-- distribution_channel: string (nullable = true)\n",
      "\n"
     ]
    }
   ],
   "source": [
    "adults_df_schema = df.withColumn('adults', col('adults').cast((FloatType())))\n",
    "adults_df_schema.printSchema()"
   ]
  },
  {
   "cell_type": "code",
   "execution_count": 63,
   "metadata": {
    "colab": {
     "base_uri": "https://localhost:8080/",
     "height": 178
    },
    "colab_type": "code",
    "id": "l2Mw4kIJy9I2",
    "outputId": "dc3d104c-375e-40c2-8119-92606e009add"
   },
   "outputs": [
    {
     "name": "stdout",
     "output_type": "stream",
     "text": [
      "+------------+-----------+---------+-----------------+------------------+-------------------------+------+-------+--------------+--------------------+\n",
      "|       hotel|is_canceled|lead_time|arrival_date_year|arrival_date_month|arrival_date_day_of_month|adults|country|market_segment|distribution_channel|\n",
      "+------------+-----------+---------+-----------------+------------------+-------------------------+------+-------+--------------+--------------------+\n",
      "|Resort Hotel|          0|      342|             2015|              July|                        1|     2|    PRT|        Direct|              Direct|\n",
      "|Resort Hotel|          0|      737|             2015|              July|                        1|     2|    PRT|        Direct|              Direct|\n",
      "+------------+-----------+---------+-----------------+------------------+-------------------------+------+-------+--------------+--------------------+\n",
      "only showing top 2 rows\n",
      "\n"
     ]
    }
   ],
   "source": [
    "df.show(2)"
   ]
  },
  {
   "cell_type": "markdown",
   "metadata": {
    "colab_type": "text",
    "id": "JDcZfLPZ-GF3"
   },
   "source": [
    "## Apply group by with having clause"
   ]
  },
  {
   "cell_type": "code",
   "execution_count": 65,
   "metadata": {
    "colab": {
     "base_uri": "https://localhost:8080/",
     "height": 351
    },
    "colab_type": "code",
    "id": "9qMs-vTB9ChM",
    "outputId": "60ca6fab-544f-4b0e-a37a-07f5e590e60e"
   },
   "outputs": [
    {
     "name": "stdout",
     "output_type": "stream",
     "text": [
      "+------+--------------+\n",
      "|adults|sum(lead_time)|\n",
      "+------+--------------+\n",
      "|     3|      583512.0|\n",
      "|     0|       34882.0|\n",
      "|     5|         662.0|\n",
      "|    27|         701.0|\n",
      "|    26|        1735.0|\n",
      "|     6|         328.0|\n",
      "|    55|         338.0|\n",
      "|    40|         304.0|\n",
      "|     1|     1545821.0|\n",
      "|    20|         662.0|\n",
      "|    10|         334.0|\n",
      "|     4|        4772.0|\n",
      "|     2|   1.0243536E7|\n",
      "|    50|         336.0|\n",
      "+------+--------------+\n",
      "\n"
     ]
    }
   ],
   "source": [
    "df.groupBy('adults').agg(sum('lead_time')).show()"
   ]
  },
  {
   "cell_type": "markdown",
   "metadata": {
    "colab_type": "text",
    "id": "hSDtY1GeRp8q"
   },
   "source": [
    "## Apply group by with having clause"
   ]
  },
  {
   "cell_type": "code",
   "execution_count": 67,
   "metadata": {
    "colab": {
     "base_uri": "https://localhost:8080/",
     "height": 211
    },
    "colab_type": "code",
    "id": "kISf2Y6b_HJE",
    "outputId": "2120499d-a729-4a72-976e-b087af513e71"
   },
   "outputs": [
    {
     "name": "stdout",
     "output_type": "stream",
     "text": [
      "+------+------------------------------+\n",
      "|adults|sum(CAST(lead_time AS DOUBLE))|\n",
      "+------+------------------------------+\n",
      "|     3|                      583512.0|\n",
      "|     0|                       34882.0|\n",
      "|    26|                        1735.0|\n",
      "|     1|                     1545821.0|\n",
      "|     4|                        4772.0|\n",
      "|     2|                   1.0243536E7|\n",
      "+------+------------------------------+\n",
      "\n"
     ]
    }
   ],
   "source": [
    "task_8 = \"\"\"\n",
    "SELECT adults, sum(lead_time) \n",
    "from temp_sql \n",
    "group by adults \n",
    "having sum(lead_time) > 1000\"\"\"\n",
    "spark.sql(task_8).show()"
   ]
  },
  {
   "cell_type": "markdown",
   "metadata": {
    "colab": {},
    "colab_type": "code",
    "id": "O_PrmZSJ2_AV"
   },
   "source": [
    "## Apply a min-max normalization on any numerical column."
   ]
  },
  {
   "cell_type": "code",
   "execution_count": 3,
   "metadata": {},
   "outputs": [],
   "source": [
    "SELECT\n",
    "    1.00*(adults-2)/AgeRange,\n",
    "    1.00*(lead_time-10)/LeadTimeRange,\n",
    "FROM\n",
    "    (\n",
    "    SELECT\n",
    "       adults,\n",
    "       MIN(Age) OVER () AS MinAge,\n",
    "       MAX(Age) OVER () - MIN(Age) OVER () AS AgeRange,\n",
    "       lead_time,\n",
    "       MIN(lead_time) OVER () AS MinLeadTime,\n",
    "       MAX(lead_time) OVER () - MIN(MinLeadTime) OVER () AS LeadTimeRange,\n",
    "    FROM\n",
    "       df\n",
    "    ) X"
   ]
  },
  {
   "cell_type": "markdown",
   "metadata": {},
   "source": [
    "## Standard Normalization"
   ]
  },
  {
   "cell_type": "code",
   "execution_count": 4,
   "metadata": {},
   "outputs": [],
   "source": [
    "select distinct\n",
    "       asin,\n",
    "       (\n",
    "       select distinct\n",
    "              adults\n",
    "         from asin df2\n",
    "        where df2.asin = df.asin\n",
    "       ) as lead_time\n",
    "  from df"
   ]
  },
  {
   "cell_type": "markdown",
   "metadata": {},
   "source": [
    "## Transform a categorical column with OneHot Encoding"
   ]
  },
  {
   "cell_type": "code",
   "execution_count": 6,
   "metadata": {},
   "outputs": [],
   "source": [
    "select hotel,\n",
    "count(country when market_segment = 'Direct' then 1 end) as stright,\n",
    "count(country when market_segment = 'Corporate' then 1 end) as rich\n",
    "from df\n",
    "group by lead_time"
   ]
  },
  {
   "cell_type": "code",
   "execution_count": null,
   "metadata": {},
   "outputs": [],
   "source": []
  }
 ],
 "metadata": {
  "colab": {
   "collapsed_sections": [],
   "name": "Assignment_6.ipynb",
   "provenance": [],
   "toc_visible": true
  },
  "kernelspec": {
   "display_name": "Python 3",
   "language": "python",
   "name": "python3"
  },
  "language_info": {
   "codemirror_mode": {
    "name": "ipython",
    "version": 3
   },
   "file_extension": ".py",
   "mimetype": "text/x-python",
   "name": "python",
   "nbconvert_exporter": "python",
   "pygments_lexer": "ipython3",
   "version": "3.7.1"
  }
 },
 "nbformat": 4,
 "nbformat_minor": 1
}
